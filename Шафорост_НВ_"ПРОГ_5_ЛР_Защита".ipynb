{
  "nbformat": 4,
  "nbformat_minor": 0,
  "metadata": {
    "colab": {
      "name": "Шафорост НВ \"ПРОГ-5-ЛР-Защита\"",
      "provenance": [],
      "collapsed_sections": [
        "_IZiH5lphD9o"
      ],
      "include_colab_link": true
    },
    "kernelspec": {
      "name": "python3",
      "display_name": "Python 3"
    },
    "language_info": {
      "name": "python"
    }
  },
  "cells": [
    {
      "cell_type": "markdown",
      "metadata": {
        "id": "view-in-github",
        "colab_type": "text"
      },
      "source": [
        "<a href=\"https://colab.research.google.com/github/Natasha-29/--3-./blob/master/%D0%A8%D0%B0%D1%84%D0%BE%D1%80%D0%BE%D1%81%D1%82_%D0%9D%D0%92_%22%D0%9F%D0%A0%D0%9E%D0%93_5_%D0%9B%D0%A0_%D0%97%D0%B0%D1%89%D0%B8%D1%82%D0%B0%22.ipynb\" target=\"_parent\"><img src=\"https://colab.research.google.com/assets/colab-badge.svg\" alt=\"Open In Colab\"/></a>"
      ]
    },
    {
      "cell_type": "markdown",
      "source": [
        "# Лабораторная работа 5"
      ],
      "metadata": {
        "id": "pUC2q4a9iHK2"
      }
    },
    {
      "cell_type": "markdown",
      "source": [
        "Описание работы: получить данные о погоде за 5 последних дней и визуализировать эти данные, используя диаграмму рассеяния (scatterplot). Затем, посчитать среднюю температуру за каждый день и построить рядом (на этом же изображении) линейную диаграмму изменения температур."
      ],
      "metadata": {
        "id": "1qqtunWKDz-W"
      }
    },
    {
      "cell_type": "markdown",
      "source": [
        "Начнем с части 1: получим данные в формате json через API openweathermap"
      ],
      "metadata": {
        "id": "prTLAIScEIRl"
      }
    },
    {
      "cell_type": "code",
      "source": [
        "key = 'e48674a3824c7010b223ba7f1086be72'"
      ],
      "metadata": {
        "id": "K-7GUyd61TK_"
      },
      "execution_count": null,
      "outputs": []
    },
    {
      "cell_type": "code",
      "source": [
        "def getweather(api_key=None, dt=None):\n",
        "    import json\n",
        "    import requests\n",
        "    city, lat, lon = \"Saint Petersburg, RU\", 59.57, 30.19\n",
        "\n",
        "\n",
        "    if api_key:\n",
        "        result = dict()\n",
        "        req = requests.get(\n",
        "            f'http://api.openweathermap.org/data/2.5/'\n",
        "            f'onecall/timemachine?lat={lat}&lon={lon}&dt={dt}&'\n",
        "            f'appid={api_key}&lang=ru&units=metric')\n",
        "\n",
        "        req_obj = json.loads(req.text)  # Преобразуем объект типа Request в json-формат\n",
        "\n",
        "        # Сохраним результаты температур в формате json, чтобы ниже их визуализировать\n",
        "        result['city'] = city\n",
        "        measures = [{\"dt\": str(measure['dt']), \"temp\": str(measure['temp'])} for measure in req_obj[\"hourly\"]]\n",
        "        \n",
        "\n",
        "        result['temps'] = measures\n",
        "        return json.dumps(result)\n",
        "\n",
        "weather_data_json = getweather(key, 1655424000)"
      ],
      "metadata": {
        "id": "v9h3XO-T77eL"
      },
      "execution_count": null,
      "outputs": []
    },
    {
      "cell_type": "markdown",
      "source": [
        "Перейдем к шагу 2: визуализируем полученные данные с помощью matplotlib и типа диаграммы scatterplot."
      ],
      "metadata": {
        "id": "yZH4cBJtFPrf"
      }
    },
    {
      "cell_type": "code",
      "source": [
        "def visualise_data(json_data=''):\n",
        "\n",
        "    if json_data:\n",
        "        import matplotlib.pyplot as pplt\n",
        "        import pandas\n",
        "        from datetime import datetime\n",
        "        import numpy as np\n",
        "        # Мы можем загрузить данные в пригодный для дальнейшей обработки формат\n",
        "        # с помощью метода read_json из pandas.\n",
        "        data = pandas.read_json(json_data)\n",
        "        # print(data)\n",
        "        city_name = data['city']\n",
        "\n",
        "        # получим отдельные столбцы с датами \n",
        "        dates = [_d['dt'] for _d in data['temps'][:]]\n",
        "        # и тепературами\n",
        "        temps = [_t['temp'] for _t in data['temps'][:]]\n",
        "\n",
        "        # построенный график необходимо оптимизировать:\n",
        "        #  - упростить вывод дат (на этом графике они выводятся в формате unixtime)\n",
        "        #  - вывести более строгие значения для подписей осей абсцисс и ординат\n",
        "        dates_upd = [datetime.utcfromtimestamp(int(i)).strftime('%d.%m.%Y %H:%M') for i in dates]\n",
        "        temps_upd = [round(float(i)) for i in temps]\n",
        "\n",
        "        x_pos = np.arange(len(dates_upd))\n",
        "        #  - добавить название \n",
        "        pplt.title('Погода в Санкт-Петербурге')\n",
        "        #  - правильно расположить ось абсцисс\n",
        "        #  (xticks, yticks)\n",
        "        pplt.xticks(x_pos, dates_upd, rotation = 90)\n",
        "         \n",
        "        \n",
        "        # - добавить на график температуры остальных дат \n",
        "        # - добавить второй график со средними значениями\n",
        "\n",
        "        # построим их на диаграмме рассеяния\n",
        "        pplt.scatter(x_pos, temps_upd)\n",
        "        pplt.show()\n",
        "\n",
        "visualise_data(weather_data_json)\n",
        "\n",
        "\n",
        "# средние температуры\n",
        "from datetime import datetime\n",
        "import matplotlib.pyplot as pplt\n",
        "import numpy as np\n",
        "import pandas\n",
        "\n",
        "def average_temp(dates):\n",
        "\n",
        "    res_dict = {}\n",
        "    res = []\n",
        "    for i in dates:\n",
        "        res_dict[i] = pandas.read_json(getweather(key, i))\n",
        "        res_dict[i] = round(np.mean([float(_t['temp']) for _t in res_dict[i]['temps'][:]]), 1)\n",
        "\n",
        "    res = [res_dict[i] for i in res_dict]\n",
        "    return res\n",
        "\n",
        "\n",
        "\n",
        "dates = [1655078400, 1655164800, 1655251200, 1655337600, 1655424000] \n",
        "res = average_temp(dates)\n",
        "# print(res)\n",
        "\n",
        "dates_upd = [datetime.utcfromtimestamp(int(i)).strftime('%d.%m.%Y %H:%M') for i in dates]\n",
        "x_pos = np.arange(len(dates_upd))\n",
        "\n",
        "pplt.title('Средняя погода в Санкт-Петербурге (13-17 июня)')\n",
        "pplt.xticks(x_pos, dates_upd, rotation = 90)\n",
        "pplt.plot(x_pos, res)\n",
        "pplt.show()"
      ],
      "metadata": {
        "colab": {
          "base_uri": "https://localhost:8080/",
          "height": 703
        },
        "id": "-Qt8-rWE8KFr",
        "outputId": "3648c90a-9c9f-4c95-ba1b-d95e8576fae3"
      },
      "execution_count": null,
      "outputs": [
        {
          "output_type": "display_data",
          "data": {
            "text/plain": [
              "<Figure size 432x288 with 1 Axes>"
            ],
            "image/png": "[encoded data removed]"
          },
          "metadata": {
            "needs_background": "light"
          }
        },
        {
          "output_type": "display_data",
          "data": {
            "text/plain": [
              "<Figure size 432x288 with 1 Axes>"
            ],
            "image/png": "[encoded data removed]"
          },
          "metadata": {
            "needs_background": "light"
          }
        }
      ]
    },
    {
      "cell_type": "markdown",
      "source": [
        "# Лабораторная работа 6"
      ],
      "metadata": {
        "id": "r7aV5cmoiILe"
      }
    },
    {
      "cell_type": "markdown",
      "source": [
        "Примените паттерн одиночка к функции получения валют и протестируйте получившийся код (при применении шаблона у вас не может существовать более одного инстанса объекта, к которому вы применили паттерн). "
      ],
      "metadata": {
        "id": "Ll2FN0nQBcQ5"
      }
    },
    {
      "cell_type": "markdown",
      "source": [
        "У класса есть только один экземпляр, и он предоставляет к нему глобальную точку доступа. При попытке создания данного объекта он создаётся только в том случае, если ещё не существует, в противном случае возвращается ссылка на уже существующий экземпляр и нового выделения памяти не происходит."
      ],
      "metadata": {
        "id": "G9lgaI0-D4CJ"
      }
    },
    {
      "cell_type": "code",
      "source": [
        "\"\"\"\n",
        "Разработать фрагмент программы, позволяющий получать данные о текущих курсах валют с сайта Центробанка РФ с использованием сервиса, который они предоставляют. Применить шаблон проектирования «Одиночка» для предотвращения отправки избыточных запросов к серверу ЦБ РФ (запретить вызов функции get_currencies более 1 раза в секунду). Оформить решение в виде корректно работающего приложения, реализовать тестирование и опубликовать его в портфолио.\n",
        "\n",
        "Страница документации: https://cbr.ru/development/\n",
        "\"\"\"\n",
        "\n",
        "# http://www.cbr.ru/scripts/XML_daily.asp\n",
        "import time\n",
        "import requests\n",
        "from xml.etree import ElementTree as ET  \n",
        "\n",
        "\n",
        "def singleton(cls):\n",
        "    instances = {}\n",
        "\n",
        "    def getinstance():\n",
        "        if cls not in instances:\n",
        "            instances[cls] = cls()\n",
        "        return instances[cls]\n",
        "\n",
        "    return getinstance\n",
        "\n",
        "\n",
        "class TooManyRequests(Exception):\n",
        "    pass\n",
        "\n",
        "\n",
        "@singleton\n",
        "class CurrenciesList():\n",
        "    def __init__(self):\n",
        "        self.t = 0\n",
        "        \n",
        "\n",
        "    def get_currencies(self, currencies_ids_lst=None):\n",
        "        t = time.time() # время, выраженное в секундах с начала.\n",
        "\n",
        "        if t - self.t < 1:\n",
        "            raise TooManyRequests('one function call per second is allowed')\n",
        "\n",
        "        self.t = t\n",
        "        \n",
        "        if currencies_ids_lst is None:\n",
        "            currencies_ids_lst = [\n",
        "                'R01239', 'R01235', 'R01035', 'R01815', 'R01585F', 'R01589',\n",
        "                'R01625', 'R01670', 'R01700J', 'R01710A'\n",
        "            ]\n",
        "        res = requests.get(\"http://www.cbr.ru/scripts/XML_daily.asp\")\n",
        "        cur_res_str = res.text\n",
        "\n",
        "        result = {}\n",
        "\n",
        "        root = ET.fromstring(cur_res_str) # находим корень\n",
        "\n",
        "        valutes = root.findall(\"Valute\") # используется для поиска всех непересекающихся совпадений в шаблоне\n",
        "\n",
        "        for _v in valutes:\n",
        "            valute_id = _v.get('ID')\n",
        "\n",
        "            if str(valute_id) in currencies_ids_lst: # если номер валюты есть в нашем списке сохраняем его\n",
        "                valute_cur_val = _v.find('Value').text\n",
        "                valute_cur_name = _v.find('Name').text\n",
        "\n",
        "                result[valute_id] = (valute_cur_val, valute_cur_name)\n",
        "\n",
        "        return result\n",
        "\n",
        "\n",
        "\n",
        "    "
      ],
      "metadata": {
        "id": "NE4yZxwACMNX"
      },
      "execution_count": null,
      "outputs": []
    },
    {
      "cell_type": "code",
      "source": [
        "    my_cur_list = CurrenciesList()\n",
        "    print(id(my_cur_list))\n",
        "    \n",
        "    my_cur_list2 = CurrenciesList()\n",
        "    res = my_cur_list2.get_currencies([\"R01090B\", \"R01720\", \"R01565\"])\n",
        "    print(res)\n",
        "    print(id(my_cur_list2))\n",
        "    \n",
        "    time.sleep(1.0)\n",
        "    \n",
        "    my_cur_list3 = CurrenciesList()\n",
        "    print(id(my_cur_list3))\n",
        "    res = my_cur_list3.get_currencies([\"R01090B\", \"R01720\", \"R01565\"])\n",
        "    print(res)"
      ],
      "metadata": {
        "colab": {
          "base_uri": "https://localhost:8080/"
        },
        "id": "dW3qvOHRCoP6",
        "outputId": "2bc20bcd-d8d6-421e-9f74-532cc4a12673"
      },
      "execution_count": null,
      "outputs": [
        {
          "output_type": "stream",
          "name": "stdout",
          "text": [
            "140223699418384\n",
            "{'R01090B': ('22,1152', 'Белорусский рубль'), 'R01565': ('12,6438', 'Польский злотый'), 'R01720': ('19,1990', 'Украинских гривен')}\n",
            "140223699418384\n",
            "140223699418384\n",
            "{'R01090B': ('22,1152', 'Белорусский рубль'), 'R01565': ('12,6438', 'Польский злотый'), 'R01720': ('19,1990', 'Украинских гривен')}\n"
          ]
        }
      ]
    },
    {
      "cell_type": "markdown",
      "source": [
        "# Лабораторная работа 7"
      ],
      "metadata": {
        "id": "OEkzv_-BiJKf"
      }
    },
    {
      "cell_type": "markdown",
      "source": [
        "Примените паттерн декоратор и реализуйте объектно-ориентированную версию программы получения курсов валют с сайта Центробанка таким образом, чтобы:\n",
        "\n"
      ],
      "metadata": {
        "id": "JxwsYW3tLSO_"
      }
    },
    {
      "cell_type": "code",
      "source": [
        "import requests\n",
        "import json\n",
        "import csv\n",
        "from bs4 import BeautifulSoup"
      ],
      "metadata": {
        "id": "fZgbK_TdL8Gp"
      },
      "execution_count": null,
      "outputs": []
    },
    {
      "cell_type": "code",
      "source": [
        "class BaseComponent(): # объявляем наш \"интерфейс\" от которого будут наследоваться декораторы\n",
        "  def get_currencies():\n",
        "    pass"
      ],
      "metadata": {
        "id": "bxjUIILZMGFz"
      },
      "execution_count": null,
      "outputs": []
    },
    {
      "cell_type": "code",
      "source": [
        "class Decorator(BaseComponent): # объявляем базовый класс декоратора\n",
        "    __component = BaseComponent() # который наследуется от нашего интерфейса\n",
        "\n",
        "    def __init__(self, component): # в качестве аргумента конструктора передаётся объект\n",
        "        self.__component = component # наследуемый от BaseComponent"
      ],
      "metadata": {
        "id": "3mZjRLFIMQJO"
      },
      "execution_count": null,
      "outputs": []
    },
    {
      "cell_type": "code",
      "source": [
        "class CurrenciesList(BaseComponent):\n",
        "\n",
        "    def get_currencies(self, currencies_ids_lst=None):\n",
        "        if currencies_ids_lst is None:\n",
        "            currencies_ids_lst = [\n",
        "                'R01239', 'R01235', 'R01035', 'R01815', 'R01585F', 'R01589',\n",
        "                'R01625', 'R01670', 'R01700J', 'R01710A'\n",
        "            ]\n",
        "        cur_res_str = requests.get(\"http://www.cbr.ru/scripts/XML_daily.asp\").text\n",
        "        result={}\n",
        "        soup = BeautifulSoup(cur_res_str, 'html.parser')\n",
        "\n",
        "\n",
        "        valutes = soup.find_all(\"valute\")\n",
        "        for _v in valutes:\n",
        "            valute_id = _v['id']\n",
        "            \n",
        "            if str(valute_id) in currencies_ids_lst:\n",
        "                valute_cur_val = _v.find('value').string\n",
        "                valute_cur_name = _v.find('name').string\n",
        "\n",
        "                result[valute_id] = (valute_cur_val, valute_cur_name)\n",
        "        return result"
      ],
      "metadata": {
        "id": "dF7bO2P1Mklt"
      },
      "execution_count": null,
      "outputs": []
    },
    {
      "cell_type": "markdown",
      "source": [
        "\n",
        "было возможно применить декоратор к базовой версии и получить данные в формате JSON (class ConcreteDecoratorJSON);"
      ],
      "metadata": {
        "id": "Ob_rZoO_LWpl"
      }
    },
    {
      "cell_type": "code",
      "source": [
        "class DecoratorJSON(Decorator): # объявляем декоратор, который записывает результат в json\n",
        "    __component = BaseComponent() \n",
        "\n",
        "    def __init__(self, component): # в качестве аргумента конструктора передаётся объект \n",
        "        self.__component = component # наследуемый от BaseComponent\n",
        "\n",
        "    def dict_to_json(self):\n",
        "        dct = self.__component.get_currencies([\"R01090B\", \"R01720\", \"R01565\"])\n",
        "        with open('result.json', 'w') as fp:\n",
        "            json.dump(dct, fp, indent = 4, ensure_ascii=False)"
      ],
      "metadata": {
        "id": "oMa8sENqMU8E"
      },
      "execution_count": null,
      "outputs": []
    },
    {
      "cell_type": "markdown",
      "source": [
        "\n",
        "было возможно использовать декоратор к базовой версии (CurrenciesList) или к другому декоратору (ConcreteDecoratorJSON) и получить данные в формате csv (class ConcreteDecoratorCSV)."
      ],
      "metadata": {
        "id": "B-p2OI3lLYdd"
      }
    },
    {
      "cell_type": "code",
      "source": [
        "class DecoratorCSV(Decorator): # объявляем декоратор, который записывает результат в csv\n",
        "    __component = BaseComponent()\n",
        "\n",
        "    def __init__(self, component): # в качестве аргумента конструктора передаётся объект \n",
        "        self.__component = component # наследуемый от BaseComponent\n",
        "\n",
        "    def dict_to_csv(self):\n",
        "        dct = self.__component.get_currencies([\"R01090B\", \"R01720\", \"R01565\"])\n",
        "        with open('result.csv', 'w') as fp:\n",
        "            w = csv.DictWriter(fp, dct.keys())\n",
        "            w.writeheader()\n",
        "            w.writerow(dct)"
      ],
      "metadata": {
        "id": "_ubibc3vMau0"
      },
      "execution_count": null,
      "outputs": []
    },
    {
      "cell_type": "code",
      "source": [
        "cur_lst_json = DecoratorJSON(CurrenciesList()) # создаем объект класса CurrenciesList и передаём его декоратору DecoratorJSON\n",
        "cur_lst_json.dict_to_json() # таким образом созданный объект имеет функциональность, описанную в декораторе DecoratorJSON"
      ],
      "metadata": {
        "id": "ROulYM54MsGO"
      },
      "execution_count": null,
      "outputs": []
    },
    {
      "cell_type": "code",
      "source": [
        "cur_lst_csv = DecoratorCSV(CurrenciesList()) # создаем объект класса CurrenciesList и передаём его декоратору DecoratorCSV\n",
        "cur_lst_csv.dict_to_csv() # таким образом созданный объект имеет функциональность, описанную в декораторе DecoratorCSV\n"
      ],
      "metadata": {
        "id": "baSXZz7ySOme"
      },
      "execution_count": null,
      "outputs": []
    },
    {
      "cell_type": "markdown",
      "source": [
        "# Лабораторная работа 9"
      ],
      "metadata": {
        "id": "zoSp6u2diLx2"
      }
    },
    {
      "cell_type": "code",
      "source": [
        "import matplotlib\n",
        "import matplotlib.pyplot as plt\n",
        "import numpy as np\n",
        "from datetime import datetime, date, timedelta\n",
        "import requests\n",
        "from bs4 import BeautifulSoup"
      ],
      "metadata": {
        "id": "hJ_-clYAmDd1"
      },
      "execution_count": null,
      "outputs": []
    },
    {
      "cell_type": "code",
      "source": [
        "def get_currencies(currencies_ids_lst =[ \n",
        "            'R01239', 'R01235', 'R01035', 'R01815', 'R01585F', 'R01589',\n",
        "            'R01625', 'R01670', 'R01700J', 'R01710A'\n",
        "        ]): # получение значений валют, которые передаются списком в функцию\n",
        "\n",
        "    cur_res_str = requests.get(\"http://www.cbr.ru/scripts/XML_daily.asp\").text # отправка запроса на апи и преобразование ответа в текст\n",
        "    result = dict()\n",
        "    # парсим данные и извлекаем необходимые валюты \n",
        "    soup = BeautifulSoup(cur_res_str, 'html.parser') \n",
        "    valutes = soup.find_all(\"valute\")\n",
        "    for _v in valutes:\n",
        "        valute_id = _v['id']\n",
        "            \n",
        "        if str(valute_id) in currencies_ids_lst:\n",
        "            valute_cur_val = _v.find('value').string\n",
        "            valute_cur_name = _v.find('name').string\n",
        "            result[valute_cur_name] = valute_cur_val\n",
        "\n",
        "    return result\n"
      ],
      "metadata": {
        "id": "FRBAcboZm3VZ"
      },
      "execution_count": null,
      "outputs": []
    },
    {
      "cell_type": "code",
      "source": [
        "# Вывести на графике 10 валют (получить по кодам валюты из ЦБС)\n",
        "\n",
        "cur_vals = get_currencies() #получаем  \n",
        "objects = cur_vals.keys() #метод .keys() возвращает список со всеми ключами\n",
        "\n",
        "y_pos = np.arange(len(objects))"
      ],
      "metadata": {
        "id": "k-MOSdE0nCje"
      },
      "execution_count": null,
      "outputs": []
    },
    {
      "cell_type": "code",
      "source": [
        "# переписать лямбда-функцию из следующей строки через list comprehension \n",
        "# performance = list(map(lambda x: float(x.replace(\",\",\".\")), cur_vals.values()))\n",
        "\n",
        "performance = [float(x.replace(',', '.')) for x in cur_vals.values()]"
      ],
      "metadata": {
        "id": "mZqe08lLnJnK"
      },
      "execution_count": null,
      "outputs": []
    },
    {
      "cell_type": "code",
      "source": [
        "# Нарисовать отдельный график с колебанием одной (выбранной вами) валюты\n",
        "# (получить данные с сайта ЦБ за год) и отобразить его наиболее \n",
        "# оптимальным образом (типом графика)\n",
        "\n",
        "def get_currencies_year(currencie_id='R01239'): # функция получения валюты за год\n",
        "\n",
        "    today = datetime.today() # берём сегодняшнюю дату\n",
        "    date = today - timedelta(days=365) # находим начальную дату: сегодняшняя - 365 деней\n",
        "    result = dict()\n",
        "    valute_name = \"Евро\"\n",
        "\n",
        "    while date !=today: # итерируемся по циклу 365 раз, отправляя каждый раз запрос\n",
        "\n",
        "        day = str(date.day)\n",
        "        month = str(date.month)\n",
        "\n",
        "        if len(str(date.day)) == 1: # так как по запросу ожидается формат дд:мм:гггг то стоит проверять является ли число однозначным\n",
        "            day = '0' + str(date.day) # если является, то приписать к началу 0, иначе в качестве ответа придёт ошибка\n",
        "        \n",
        "        if len(str(date.month)) == 1: # аналогично также как и с числом выше\n",
        "            month = '0' + str(date.month)\n",
        "\n",
        "        req = requests.get('http://www.cbr.ru/scripts/XML_daily.asp', params = {'date_req':day + '/' + month + '/' + str(date.year)}).text # отправка запроса\n",
        "\n",
        "        soup = BeautifulSoup(req, 'html.parser') # парсинг необходимой валюты\n",
        "        valutes = soup.find_all(\"valute\")\n",
        "\n",
        "        for _v in valutes:\n",
        "            valute_id = _v['id']\n",
        "                \n",
        "            if str(valute_id) == currencie_id:\n",
        "                valute_val = float('.'.join(_v.find('value').string.split(',')))\n",
        "                result[date.strftime(\"%d/%m/%Y\")] = valute_val\n",
        "\n",
        "        date = date + timedelta(days = 1) # добавление одного дня к итерируемой переменной\n",
        "\n",
        "    res = {valute_name:result}\n",
        "    return res\n",
        "\n"
      ],
      "metadata": {
        "id": "JBJL0pYpnVFi"
      },
      "execution_count": null,
      "outputs": []
    },
    {
      "cell_type": "code",
      "source": [
        "# Отобразить это на одном изображении (2 графика)\n",
        "\n",
        "plt.bar(y_pos, performance)\n",
        "plt.xticks(y_pos, objects, rotation='vertical')\n",
        "plt.ylabel('Стоимость')\n",
        "plt.xlabel('Валюта')\n",
        "plt.title('Курс валют по отношению к рублю')\n",
        "plt.show()\n",
        "\n",
        "year_currencies = get_currencies_year()\n",
        "x = []\n",
        "y = []\n",
        "\n",
        "for n in list(year_currencies[\"Евро\"].items()):\n",
        "    x.append(n[0])\n",
        "    y.append(n[1])\n",
        "\n",
        "plt.plot(x,y)\n",
        "plt.title(\"Курс евро по отношению к рублю за год\")\n",
        "plt.xlabel('Дата')\n",
        "plt.ylabel('Значение')\n",
        "plt.xticks(x[::80])\n",
        "plt.autoscale(tight=False)\n",
        "plt.show()"
      ],
      "metadata": {
        "colab": {
          "base_uri": "https://localhost:8080/",
          "height": 801
        },
        "id": "DngUDH0WnbHo",
        "outputId": "27e32b87-5100-44fa-d1bf-93ae4c08ab7a"
      },
      "execution_count": null,
      "outputs": [
        {
          "output_type": "display_data",
          "data": {
            "text/plain": [
              "<Figure size 432x288 with 1 Axes>"
            ],
            "image/png": "[encoded data removed]"
          },
          "metadata": {
            "needs_background": "light"
          }
        },
        {
          "output_type": "display_data",
          "data": {
            "text/plain": [
              "<Figure size 432x288 with 1 Axes>"
            ],
            "image/png": "[encoded data removed]"
          },
          "metadata": {
            "needs_background": "light"
          }
        }
      ]
    }
  ]
}