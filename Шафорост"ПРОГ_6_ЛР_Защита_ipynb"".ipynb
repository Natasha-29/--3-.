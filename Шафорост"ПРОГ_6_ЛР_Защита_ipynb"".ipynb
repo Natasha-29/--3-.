{
  "nbformat": 4,
  "nbformat_minor": 0,
  "metadata": {
    "colab": {
      "name": "Шафорост\"ПРОГ-6-ЛР-Защита.ipynb\"\"",
      "provenance": [],
      "include_colab_link": true
    },
    "kernelspec": {
      "name": "python3",
      "display_name": "Python 3"
    },
    "language_info": {
      "name": "python"
    }
  },
  "cells": [
    {
      "cell_type": "markdown",
      "metadata": {
        "id": "view-in-github",
        "colab_type": "text"
      },
      "source": [
        "<a href=\"https://colab.research.google.com/github/Natasha-29/--3-./blob/master/%D0%A8%D0%B0%D1%84%D0%BE%D1%80%D0%BE%D1%81%D1%82%22%D0%9F%D0%A0%D0%9E%D0%93_6_%D0%9B%D0%A0_%D0%97%D0%B0%D1%89%D0%B8%D1%82%D0%B0_ipynb%22%22.ipynb\" target=\"_parent\"><img src=\"https://colab.research.google.com/assets/colab-badge.svg\" alt=\"Open In Colab\"/></a>"
      ]
    },
    {
      "cell_type": "markdown",
      "source": [
        "# ***Лабораторная работа 1 - 2***\n",
        "\n",
        "\n",
        "---\n",
        "\n",
        "\n",
        "\n"
      ],
      "metadata": {
        "id": "hexpEVu8KQcC"
      }
    },
    {
      "cell_type": "markdown",
      "source": [
        "Реализовать содержимое функций, декларированных в репле: https://replit.com/@zhukov/ClassicIntelligentEvaluations"
      ],
      "metadata": {
        "id": "QJktLF8OI1Zd"
      }
    },
    {
      "cell_type": "markdown",
      "source": [
        "мой репл: https://replit.com/@Nataliya29/ClassicIntelligentEvaluations#main.py"
      ],
      "metadata": {
        "id": "v4F1Nx6-KKwT"
      }
    },
    {
      "cell_type": "markdown",
      "source": [
        "Сначала сделала fork репла с заданиями и  добавила туда следующее: \n",
        "\n",
        "1. **main.py** - вывод результатов по файлу 'MarketingSpend.csv', функции *count_different_values* и *get_total_quantity* (с демонстрацией работы)\n",
        "\n",
        "2. **mathstats.py** - расчет максимумов, минимумов, дисперсии и сигмы."
      ],
      "metadata": {
        "id": "8J9pE7heWDEn"
      }
    },
    {
      "cell_type": "code",
      "source": [
        "# пакет для аннотации типов\n",
        "from typing import List "
      ],
      "metadata": {
        "id": "SARPP3LqYyqb"
      },
      "execution_count": null,
      "outputs": []
    },
    {
      "cell_type": "markdown",
      "source": [
        "## main.py"
      ],
      "metadata": {
        "id": "YqIBt-3Yg0ic"
      }
    },
    {
      "cell_type": "code",
      "source": [
        "    # Создаем множество и добавляем туда по очереди все встреченные элементы. \n",
        "    # Поскольку это множество, инвойсы в нем не будут повторяться\n",
        "    # В конце считаем сколько элементов получилось\n",
        "    # (сколько всего заказов)\n",
        "def count_invoice(data: List[dict]) -> int:\n",
        "    invoices = {d['InvoiceNo'] for d in data} \n",
        "    return len(invoices)"
      ],
      "metadata": {
        "id": "BjaYF5ciURdf"
      },
      "execution_count": null,
      "outputs": []
    },
    {
      "cell_type": "code",
      "source": [
        "    # кол-во различных значений\n",
        "    # реализованно аналогично, через множество + проверка ключа на корректность\n",
        "\n",
        "def count_different_values(data: List[dict], key: str) -> int:\n",
        "    \"\"\"\n",
        "    Функция должна возвращать число различных значений для столбца key в списке data\n",
        "\n",
        "    key - InvoiceNo или InvoiceDate или StockCode\n",
        "    \"\"\"\n",
        "    if key not in ('InvoiceNo', 'InvoiceDate', 'StockCode'):\n",
        "        raise ValueError('incorrect key name')\n",
        "        \n",
        "    values = {d[key] for d in data}\n",
        "    return len(values)"
      ],
      "metadata": {
        "id": "OMXCLkbpfDyE"
      },
      "execution_count": null,
      "outputs": []
    },
    {
      "cell_type": "code",
      "source": [
        "    # реализованно через генератор списка\n",
        "    # если код совпадает с аргументом, то запишем кол-во в список\n",
        "    # в конце найдем сумму элементов списка\n",
        "    \n",
        "def get_total_quantity(data: List[dict], stock_code: int) -> int:\n",
        "    \"\"\"\n",
        "    Возвращает общее количество проданного товара для данного stock_code\n",
        "    \"\"\"\n",
        "    quantities = [int(d['Quantity']) for d in data if int(d['StockCode']) == stock_code]\n",
        "    return sum(quantities)"
      ],
      "metadata": {
        "id": "JvQmMNFZf15y"
      },
      "execution_count": null,
      "outputs": []
    },
    {
      "cell_type": "markdown",
      "source": [
        "## mathstats.py"
      ],
      "metadata": {
        "id": "0Q0dAR2AhjwQ"
      }
    },
    {
      "cell_type": "code",
      "source": [
        "class MathStats():\n",
        "    def __init__(self, file):\n",
        "        import csv\n",
        "\n",
        "        self._file = file\n",
        "        self._data = []\n",
        "        self._mean = None\n",
        "        self._disp = None\n",
        "        \n",
        "        with open(self._file, newline='') as csvfile:\n",
        "            reader = csv.DictReader(csvfile)\n",
        "\n",
        "            for _r in reader:\n",
        "                row = {\n",
        "                    'Date': _r[''],\n",
        "                    'Offline': float(_r['Offline Spend']),\n",
        "                    'Online': float(_r['Online Spend']),\n",
        "                }\n",
        "                self._data.append(row)\n",
        "\n",
        "        # генерируем список значений офлайн и онлайн продаж за весь период\n",
        "        offline_values = [d['Offline'] for d in self._data]\n",
        "        online_values = [d['Online'] for d in self._data]\n",
        "\n",
        "        # находим минимум и максимум по офлайн и онлайн продажам\n",
        "        self._max = (max(offline_values), max(online_values))\n",
        "        self._min = (min(offline_values), min(online_values))\n",
        "\n",
        "    @property\n",
        "    def data(self):\n",
        "        return self._data\n",
        "\n",
        "    def get_mean(self, data):\n",
        "        \"\"\"\n",
        "        Вычисление среднего по оффлайн и онлайн тратам\n",
        "        \"\"\"\n",
        "\n",
        "        sums = {'offline': 0, 'online': 0}\n",
        "        for _l in data:\n",
        "            sums['offline'] += _l['Offline']\n",
        "            sums['online'] += _l['Online']\n",
        "\n",
        "        self._mean = (sums['offline'] / len(data), sums['online'] / len(data))\n",
        "\n",
        "        return self._mean\n",
        "\n",
        "    @property\n",
        "    def max(self):\n",
        "        return self._max\n",
        "\n",
        "    @property\n",
        "    def min(self):\n",
        "        return self._min\n",
        "\n",
        "    @property\n",
        "    def disp(self):\n",
        "        offline_mean, online_mean = self.get_mean(self._data) #вычислила среднее значение\n",
        "        offline_mean_sum, online_mean_sum = 0, 0\n",
        "        for _l in self._data:\n",
        "            _, offline_val, online_val = _l.values()\n",
        "            offline_mean_sum += (offline_val - offline_mean) ** 2\n",
        "            online_mean_sum += (online_val - online_mean) ** 2\n",
        "        self._disp = (offline_mean_sum / len(self._data), online_mean_sum / len(self._data))\n",
        "        return self._disp\n",
        "\n",
        "    # по аналогии — со среднем квадратичным отклонением\n",
        "    @property\n",
        "    def sigma_sq(self):\n",
        "        self._sigma_sq = (self._disp[0] ** (1/2), self._disp[1] ** (1/2))\n",
        "        return self._sigma_sq\n"
      ],
      "metadata": {
        "id": "vP0bTYJGhrN_"
      },
      "execution_count": null,
      "outputs": []
    },
    {
      "cell_type": "markdown",
      "source": [
        " ***Лабораторная работа 3 - 4***\n",
        "\n",
        "---\n",
        "\n"
      ],
      "metadata": {
        "id": "JNCtP84MmSu1"
      }
    },
    {
      "cell_type": "markdown",
      "source": [
        "Используя обучающий набор данных о пассажирах Титаника, найдите ответы на следующие вопросы: \n",
        "\n",
        "Для вычисления 3, 4, 5, 6, 7, 8 используйте тип данных float с точностью два знака в дробной части. "
      ],
      "metadata": {
        "id": "iaQMrq2VmbLi"
      }
    },
    {
      "cell_type": "code",
      "source": [
        "import pandas as pd  # импортирование библиотеки для считывания данных\n",
        "from numpy import isnan  # импортирование функции isnan для проверки на \"not a number\"\n",
        "\n",
        "# считаем данных из файла, в качестве столбца индексов используем PassengerId\n",
        "data = pd.read_csv('train.csv', index_col=\"PassengerId\")"
      ],
      "metadata": {
        "id": "vsMxzmGbI7cQ"
      },
      "execution_count": null,
      "outputs": []
    },
    {
      "cell_type": "markdown",
      "source": [
        "###### 1. Какое количество мужчин и женщин ехало на параходе? Приведите два числа через пробел."
      ],
      "metadata": {
        "id": "rh8PfhApHqUo"
      }
    },
    {
      "cell_type": "code",
      "source": [
        "def get_sex_distrib(data):\n",
        "\n",
        "    n_male, n_female = data['Sex'].value_counts() # функция считает количество различных уникальных значений в серии\n",
        "    return f\"{n_male} {n_female}\" # форматированный вывод результатов\n"
      ],
      "metadata": {
        "id": "Ty0XSHXJKW-S"
      },
      "execution_count": null,
      "outputs": []
    },
    {
      "cell_type": "code",
      "source": [
        "get_sex_distrib(data) "
      ],
      "metadata": {
        "id": "VlCkvWR8KeXl",
        "colab": {
          "base_uri": "https://localhost:8080/",
          "height": 36
        },
        "outputId": "678dc4e1-ad9f-4ec8-9a2c-1b24c084a68f"
      },
      "execution_count": null,
      "outputs": [
        {
          "output_type": "execute_result",
          "data": {
            "text/plain": [
              "'577 314'"
            ],
            "application/vnd.google.colaboratory.intrinsic+json": {
              "type": "string"
            }
          },
          "metadata": {},
          "execution_count": 19
        }
      ]
    },
    {
      "cell_type": "markdown",
      "source": [
        "###### 2.Подсчитайте сколько пассажиров загрузилось на борт в различных портах? Приведите три числа через пробел."
      ],
      "metadata": {
        "id": "F0H0bs1FH0w_"
      }
    },
    {
      "cell_type": "code",
      "source": [
        "def get_port_distrib(data):\n",
        "\n",
        "    port_S, port_C, port_Q = data['Embarked'].value_counts() # функция считает количество различных уникальных значений в серии\n",
        "    return f\"{port_S} {port_C} {port_Q}\" # форматированный вывод результатов\n"
      ],
      "metadata": {
        "id": "TCE-XMLxRZLe"
      },
      "execution_count": null,
      "outputs": []
    },
    {
      "cell_type": "code",
      "source": [
        "get_port_distrib(data)"
      ],
      "metadata": {
        "colab": {
          "base_uri": "https://localhost:8080/",
          "height": 36
        },
        "id": "RZ71Zcr_R3ef",
        "outputId": "48ea2be5-38a8-4dd0-fc7a-f3a8a5186b33"
      },
      "execution_count": null,
      "outputs": [
        {
          "output_type": "execute_result",
          "data": {
            "text/plain": [
              "'644 168 77'"
            ],
            "application/vnd.google.colaboratory.intrinsic+json": {
              "type": "string"
            }
          },
          "metadata": {},
          "execution_count": 20
        }
      ]
    },
    {
      "cell_type": "markdown",
      "source": [
        "###### 3.Посчитайте долю (процент) погибших на параходе (число и процент)?\n"
      ],
      "metadata": {
        "id": "4sFu9LafH2a4"
      }
    },
    {
      "cell_type": "code",
      "source": [
        "def get_surv_percent(data):\n",
        "\n",
        "    # получение количества уникальных элементов с помощью уже известной нам функции\n",
        "    # нужные нам данные (кол-во умерших) находятся под индексом 0\n",
        "    n_died = data['Survived'].value_counts()[0]\n",
        "\n",
        "    # параметр normalize позволяет возвращать относительные частоты уникальных значений\n",
        "    # normalize = True процентное соотношение\n",
        "    # то есть он берет отношение интересующих нас значений к общему кол-ву значений\n",
        "    # это значение нужно умножить на 100, чтобы получить проценты\n",
        "    perc_died = data['Survived'].value_counts(normalize=True)[0] * 100\n",
        "\n",
        "    return f\"{n_died} {perc_died:.2f}%\" # форматированный вывод с точностью до 2 знаков после запятой\n"
      ],
      "metadata": {
        "id": "l899bDjfSIWX"
      },
      "execution_count": null,
      "outputs": []
    },
    {
      "cell_type": "code",
      "source": [
        "get_surv_percent(data)"
      ],
      "metadata": {
        "id": "8mxY6joWTHTP",
        "colab": {
          "base_uri": "https://localhost:8080/",
          "height": 36
        },
        "outputId": "b61e1968-c631-4fd5-ffb5-460630aed59c"
      },
      "execution_count": null,
      "outputs": [
        {
          "output_type": "execute_result",
          "data": {
            "text/plain": [
              "'549 61.62%'"
            ],
            "application/vnd.google.colaboratory.intrinsic+json": {
              "type": "string"
            }
          },
          "metadata": {},
          "execution_count": 22
        }
      ]
    },
    {
      "cell_type": "markdown",
      "source": [
        "###### 4.Какие доли составляли пассажиры первого, второго, третьего класса?"
      ],
      "metadata": {
        "id": "NcbP9-IeH4pY"
      }
    },
    {
      "cell_type": "code",
      "source": [
        "def get_class_distrib(data):\n",
        "    \"\"\"\n",
        "    4. Какие доли составляли пассажиры первого, второго, третьего класса?    \n",
        "    \"\"\"\n",
        "    # параметр normalize позволяет возвращать относительные частоты уникальных значений\n",
        "    # каждое из этих значений умножаем на 100 для получения процентов\n",
        "    n_pas_f_cl, n_pas_s_cl, n_pas_t_cl = data['Pclass'].value_counts(normalize=True) * 100 \n",
        "\n",
        "    return f\"{n_pas_f_cl:.2f}, {n_pas_s_cl:.2f}, {n_pas_t_cl:.2f}\" # форматированный вывод с точностью до 2 знаков после запятой\n"
      ],
      "metadata": {
        "id": "nvUhXEO6UpvD"
      },
      "execution_count": null,
      "outputs": []
    },
    {
      "cell_type": "code",
      "source": [
        "get_class_distrib(data)"
      ],
      "metadata": {
        "colab": {
          "base_uri": "https://localhost:8080/",
          "height": 36
        },
        "id": "g5qSZFlyUppR",
        "outputId": "3194554d-2043-4778-ce21-67e0f56a527e"
      },
      "execution_count": null,
      "outputs": [
        {
          "output_type": "execute_result",
          "data": {
            "text/plain": [
              "'55.11, 24.24, 20.65'"
            ],
            "application/vnd.google.colaboratory.intrinsic+json": {
              "type": "string"
            }
          },
          "metadata": {},
          "execution_count": 24
        }
      ]
    },
    {
      "cell_type": "markdown",
      "source": [
        "###### 5.Вычислите коэффициент корреляции Пирсона между количеством супругов (SibSp) и количеством детей (Parch)."
      ],
      "metadata": {
        "id": "Ah0AhzSjH7WO"
      }
    },
    {
      "cell_type": "markdown",
      "source": [
        "Коэффициент корреляции показывает тесноту линейной взаимосвязи и изменяется в диапазоне от -1 до 1. -1 (минус один) означает полную (функциональную) линейную обратную взаимосвязь. 1 (один) – полную (функциональную) линейную положительную взаимосвязь. 0 – отсутствие линейной корреляции (но не обязательно взаимосвязи)"
      ],
      "metadata": {
        "id": "SQ0uznSafSWx"
      }
    },
    {
      "cell_type": "code",
      "source": [
        "def find_corr_sibsp_parch(data):\n",
        "    \n",
        "    # пустые списки для значений параметров SibSp и Parch\n",
        "    sibsp = []\n",
        "    parch = []\n",
        "\n",
        "    i = 0  # счётчик для цикла\n",
        "    while i < len(data): # цикл будет выполняться, пока счётчик меньше длины наших данных\n",
        "        \n",
        "        # data.iloc - Позволяет нам выбрать конкретную ячейку набора данных\n",
        "        if not(isnan(data.iloc[i]['SibSp'])): # проверка на NaN параметра SibSp\n",
        "            sibsp.append(data.iloc[i]['SibSp']) # добавление значения SibSp в список\n",
        "            parch.append(data.iloc[i]['Parch']) # добавление значения Parch в список\n",
        "        i += 1\n",
        "\n",
        "    # преобразование полученных списков в серии, чтобы можно было провести нужные вычисления\n",
        "    sibsp, parch = pd.Series(sibsp), pd.Series(parch) \n",
        "\n",
        "    # вычисление корреляции\n",
        "    corr_val = sibsp.corr(parch)\n",
        "    return f\"{corr_val:.2f}\""
      ],
      "metadata": {
        "id": "0NW78dIgU5zz"
      },
      "execution_count": null,
      "outputs": []
    },
    {
      "cell_type": "code",
      "source": [
        "find_corr_sibsp_parch(data)"
      ],
      "metadata": {
        "id": "0Atsom3bVOhH",
        "colab": {
          "base_uri": "https://localhost:8080/",
          "height": 36
        },
        "outputId": "f49f47a2-e441-458c-9fc8-d10697c7b03a"
      },
      "execution_count": null,
      "outputs": [
        {
          "output_type": "execute_result",
          "data": {
            "text/plain": [
              "'0.41'"
            ],
            "application/vnd.google.colaboratory.intrinsic+json": {
              "type": "string"
            }
          },
          "metadata": {},
          "execution_count": 27
        }
      ]
    },
    {
      "cell_type": "markdown",
      "source": [
        "###### 6.Выясните есть ли корреляция (вычислите коэффициент корреляции Пирсона) между:"
      ],
      "metadata": {
        "id": "ntPQGgRMH8pi"
      }
    },
    {
      "cell_type": "markdown",
      "source": [
        "1) возрастом и параметром Survived; "
      ],
      "metadata": {
        "id": "Qm6bd3wDdgbB"
      }
    },
    {
      "cell_type": "code",
      "source": [
        "def find_corr_age_survival(data):\n",
        "    \n",
        "    # аналогично функции выше, разница в параметрах - Age и Survived\n",
        "    age = []\n",
        "    surv = []\n",
        "    i = 0\n",
        "    while i < len(data):\n",
        "\n",
        "        if not(isnan(data.iloc[i]['Age'])):\n",
        "            age.append(data.iloc[i]['Age'])\n",
        "            surv.append(data.iloc[i]['Survived'])\n",
        "        i += 1\n",
        "# преобразование полученных списков в серии, чтобы можно было провести нужные вычисления\n",
        "    age, surv = pd.Series(age), pd.Series(surv)\n",
        "# вычисление корреляции\n",
        "    corr_val = age.corr(surv)\n",
        "    return f\"{corr_val:.2f}\""
      ],
      "metadata": {
        "id": "MntwTs7Zdx_B"
      },
      "execution_count": null,
      "outputs": []
    },
    {
      "cell_type": "code",
      "source": [
        "find_corr_age_survival(data)"
      ],
      "metadata": {
        "colab": {
          "base_uri": "https://localhost:8080/",
          "height": 36
        },
        "id": "ZtGCnKsdd4Ok",
        "outputId": "01dd940e-ef3b-4531-a2c7-64d78c64ab1b"
      },
      "execution_count": null,
      "outputs": [
        {
          "output_type": "execute_result",
          "data": {
            "text/plain": [
              "'-0.08'"
            ],
            "application/vnd.google.colaboratory.intrinsic+json": {
              "type": "string"
            }
          },
          "metadata": {},
          "execution_count": 29
        }
      ]
    },
    {
      "cell_type": "markdown",
      "source": [
        "2) полом человека и параметром Survived;"
      ],
      "metadata": {
        "id": "war-YfYhdkKU"
      }
    },
    {
      "cell_type": "code",
      "source": [
        "def find_corr_sex_survival(data):\n",
        "    \n",
        "    # аналогично функции выше, разница в параметрах - Sex и Survived\n",
        "    sex = []\n",
        "    surv = []\n",
        "    i = 0\n",
        "    while i < len(data):\n",
        "\n",
        "        if not(isnan(data.iloc[i]['Survived'])):\n",
        "\n",
        "            # для вычисления корреляции нужны числовые значения\n",
        "            # поэтому с помощью условий преобразуем male в числа 0, а female - в 1\n",
        "            if data.iloc[i]['Sex'] == \"male\":\n",
        "                sex.append(0)\n",
        "            else:\n",
        "                sex.append(1)\n",
        "\n",
        "            surv.append(data.iloc[i]['Survived'])\n",
        "        i += 1\n",
        "\n",
        "    sex, surv = pd.Series(sex), pd.Series(surv)\n",
        "\n",
        "    corr_val = sex.corr(surv)\n",
        "    return f\"{corr_val:.2f}\"\n"
      ],
      "metadata": {
        "id": "Bv3Xfn3Od96U"
      },
      "execution_count": null,
      "outputs": []
    },
    {
      "cell_type": "code",
      "source": [
        "find_corr_sex_survival(data)"
      ],
      "metadata": {
        "colab": {
          "base_uri": "https://localhost:8080/",
          "height": 36
        },
        "id": "eAypDzhdeTwy",
        "outputId": "94515953-22d8-4b65-cae9-d0365314c51f"
      },
      "execution_count": null,
      "outputs": [
        {
          "output_type": "execute_result",
          "data": {
            "text/plain": [
              "'0.54'"
            ],
            "application/vnd.google.colaboratory.intrinsic+json": {
              "type": "string"
            }
          },
          "metadata": {},
          "execution_count": 31
        }
      ]
    },
    {
      "cell_type": "markdown",
      "source": [
        " 3) классом, в котором пассажир ехал, и параметром Survived."
      ],
      "metadata": {
        "id": "_1GNzgFgdn12"
      }
    },
    {
      "cell_type": "code",
      "source": [
        "def find_corr_class_survival(data):\n",
        "   \n",
        "    # аналогично функции выше, разница в параметрах - Pclass и Survived\n",
        "    pclass = []\n",
        "    surv = []\n",
        "    i = 0\n",
        "    while i < len(data):\n",
        "\n",
        "        if not(isnan(data.iloc[i]['Pclass'])):\n",
        "            pclass.append(data.iloc[i]['Pclass'])\n",
        "            surv.append(data.iloc[i]['Survived'])\n",
        "        i += 1\n",
        "\n",
        "    pclass, surv = pd.Series(pclass), pd.Series(surv)\n",
        "\n",
        "    corr_val = pclass.corr(surv)\n",
        "    return f\"{corr_val:.2f}\""
      ],
      "metadata": {
        "id": "RXn5Ms2LeMrY"
      },
      "execution_count": null,
      "outputs": []
    },
    {
      "cell_type": "code",
      "source": [
        "find_corr_class_survival(data)"
      ],
      "metadata": {
        "colab": {
          "base_uri": "https://localhost:8080/",
          "height": 36
        },
        "id": "ZDsziUA2eVUC",
        "outputId": "e3373c8f-7a72-4096-e372-960f3d1094c1"
      },
      "execution_count": null,
      "outputs": [
        {
          "output_type": "execute_result",
          "data": {
            "text/plain": [
              "'-0.34'"
            ],
            "application/vnd.google.colaboratory.intrinsic+json": {
              "type": "string"
            }
          },
          "metadata": {},
          "execution_count": 34
        }
      ]
    },
    {
      "cell_type": "markdown",
      "source": [
        "###### 7.Посчитайте средний возраст пассажиров и медиану."
      ],
      "metadata": {
        "id": "O05R4PcOH9t_"
      }
    },
    {
      "cell_type": "code",
      "source": [
        "def find_pass_mean_median(data):\n",
        "    \n",
        "    # функция mean считает среднее значение, а функция median - медиану\n",
        "    mean_age, median = data['Age'].mean(), data['Age'].median()\n",
        "    return f\"{mean_age:.2f}, {median:.2f}\""
      ],
      "metadata": {
        "id": "y_s-Hl_CfW_N"
      },
      "execution_count": null,
      "outputs": []
    },
    {
      "cell_type": "code",
      "source": [
        "find_pass_mean_median(data)"
      ],
      "metadata": {
        "colab": {
          "base_uri": "https://localhost:8080/",
          "height": 36
        },
        "id": "KEz835XFfcCu",
        "outputId": "82f2bf36-e3c7-4ff1-eceb-dfd8a966d10a"
      },
      "execution_count": null,
      "outputs": [
        {
          "output_type": "execute_result",
          "data": {
            "text/plain": [
              "'29.70, 28.00'"
            ],
            "application/vnd.google.colaboratory.intrinsic+json": {
              "type": "string"
            }
          },
          "metadata": {},
          "execution_count": 36
        }
      ]
    },
    {
      "cell_type": "markdown",
      "source": [
        "######  8.Посчитайте среднюю цену за билет и медиану."
      ],
      "metadata": {
        "id": "Zjf4lXbWH_Hu"
      }
    },
    {
      "cell_type": "code",
      "source": [
        "def find_ticket_mean_median(data):\n",
        "   \n",
        "    # функция mean считает среднее значение, а функция median - медиану\n",
        "    mean_price, median = data['Fare'].mean(), data['Fare'].median()\n",
        "    return f\"{mean_price:.2f}, {median:.2f}\""
      ],
      "metadata": {
        "id": "1_5r85vEf545"
      },
      "execution_count": null,
      "outputs": []
    },
    {
      "cell_type": "code",
      "source": [
        "find_ticket_mean_median(data)"
      ],
      "metadata": {
        "colab": {
          "base_uri": "https://localhost:8080/",
          "height": 36
        },
        "id": "823AetrQf-eS",
        "outputId": "4455cb23-3757-4c62-aaaf-b26952efe46c"
      },
      "execution_count": null,
      "outputs": [
        {
          "output_type": "execute_result",
          "data": {
            "text/plain": [
              "'32.20, 14.45'"
            ],
            "application/vnd.google.colaboratory.intrinsic+json": {
              "type": "string"
            }
          },
          "metadata": {},
          "execution_count": 38
        }
      ]
    },
    {
      "cell_type": "markdown",
      "source": [
        "###### 9.Какое самое популярное мужское имя на корабле?"
      ],
      "metadata": {
        "id": "oS7JNYjrIAny"
      }
    },
    {
      "cell_type": "code",
      "source": [
        "def find_popular_name(data):\n",
        "    \n",
        "    names = [] # пустой список для имён\n",
        "\n",
        "    # проходимся по данным\n",
        "    for i in data.iloc:\n",
        "        if i['Sex'] == \"male\": # нам нужны только мужские имена\n",
        "\n",
        "            # обращаемся к имени\n",
        "            # partition делит строку на 3 части - то, что стоит до шаблона, сам шаблон и то, что после шаблона\n",
        "            # нам нужно  после слов Mr. и Master. \n",
        "            name = i['Name'].partition('. ')[2] \n",
        "            names.append(name) # добавляем обрезанное имя в список\n",
        "\n",
        "    # находим наиболее встречающееся имя в списке\n",
        "    # аргумент key нужен для упорядочивания, в данном случае оно поможет найти именно наиболее встречающееся имя\n",
        "    # set - множество, где хранятся уникальные значения\n",
        "    result = max(set(names), key = names.count) \n",
        "    return f\"{result}\""
      ],
      "metadata": {
        "id": "dMKijPqJgDPo"
      },
      "execution_count": null,
      "outputs": []
    },
    {
      "cell_type": "code",
      "source": [
        "find_popular_name(data)"
      ],
      "metadata": {
        "colab": {
          "base_uri": "https://localhost:8080/",
          "height": 36
        },
        "id": "yJZeOwBcguDa",
        "outputId": "13d1194d-2628-4f09-f44c-f4330648b154"
      },
      "execution_count": null,
      "outputs": [
        {
          "output_type": "execute_result",
          "data": {
            "text/plain": [
              "'John'"
            ],
            "application/vnd.google.colaboratory.intrinsic+json": {
              "type": "string"
            }
          },
          "metadata": {},
          "execution_count": 40
        }
      ]
    },
    {
      "cell_type": "markdown",
      "source": [
        "###### 10.Какие самые популярные мужское и женские имена людей, старше 15 лет на корабле?"
      ],
      "metadata": {
        "id": "8qBRylkTICAV"
      }
    },
    {
      "cell_type": "code",
      "source": [
        "def find_popular_adult_names(data):\n",
        "    \n",
        "    # пустые списки для хранения имён\n",
        "    male = []\n",
        "    female = []\n",
        "\n",
        "    for i in data.iloc:\n",
        "\n",
        "        # выбираем имена по мужскому полу и возрасту\n",
        "        if i['Age'] > 15 and i['Sex'] == 'male':\n",
        "            # метод partition - аналогично выше\n",
        "            # split - разбиваем строку на список\n",
        "            name = i['Name'].partition('. ')[2].split(' ')\n",
        "            male.append(name[0]) # берём первую строку из списка - там содержится имя\n",
        "\n",
        "        # выбираем имена по женскому полу и возрасту\n",
        "        elif i['Age'] > 15 and i['Sex'] == 'female':\n",
        "            \n",
        "            # женские имена могут быть заключены в скобки - поэтому нужно изъять их оттуда\n",
        "            if '(' in i['Name']:\n",
        "                # разделяем имя на 3 части, берём то, что после скобки и обрезаем закрывающую скобку\n",
        "                name = i['Name'].partition('(')[2].rstrip(')').split(' ')\n",
        "            \n",
        "            # на случай, если имена не заключены в скобки\n",
        "            else:\n",
        "                name = i['Name'].partition('. ')[2].split(' ')\n",
        "            \n",
        "            female.append(name[0])\n",
        "\n",
        "    # нахождение наиболее частых - аналогично выше\n",
        "    popular_male_name = max(set(male), key = male.count)\n",
        "    popular_female_name = max(set(female), key = female.count)\n",
        "    \n",
        "    return f\"{popular_male_name}, {popular_female_name}\""
      ],
      "metadata": {
        "id": "xMdUrAREgres"
      },
      "execution_count": null,
      "outputs": []
    },
    {
      "cell_type": "code",
      "source": [
        "find_popular_adult_names(data)"
      ],
      "metadata": {
        "colab": {
          "base_uri": "https://localhost:8080/",
          "height": 36
        },
        "id": "OspnkVvrhJzM",
        "outputId": "4735778d-aa4c-47d2-eb7c-41a3a6d04313"
      },
      "execution_count": null,
      "outputs": [
        {
          "output_type": "execute_result",
          "data": {
            "text/plain": [
              "'William, Anna'"
            ],
            "application/vnd.google.colaboratory.intrinsic+json": {
              "type": "string"
            }
          },
          "metadata": {},
          "execution_count": 42
        }
      ]
    },
    {
      "cell_type": "markdown",
      "source": [
        "### Часть 2. \n",
        "\n",
        "Для набора данных из лабораторной работы 1 посчитать средние значения, \n",
        "медианы, максимальные и минимальные значения для столбцов Offline Spend, Online Spend."
      ],
      "metadata": {
        "id": "iJFB7_v0hX8o"
      }
    },
    {
      "cell_type": "code",
      "source": [
        "mark_spend = pd.read_csv('MarketingSpend.csv')"
      ],
      "metadata": {
        "id": "sEqeH8tchmXT"
      },
      "execution_count": null,
      "outputs": []
    },
    {
      "cell_type": "code",
      "source": [
        "def find_offline_mean_median(data):\n",
        "    mean, median = data['Offline Spend'].mean(), data['Offline Spend'].median()\n",
        "    return f\"{mean:.2f}, {median:.2f}\"\n",
        "\n",
        "\n",
        "def find_online_mean_median(data):\n",
        "    mean, median = data['Online Spend'].mean(), data['Online Spend'].median()\n",
        "    return f\"{mean:.2f}, {median:.2f}\"\n",
        "\n",
        "\n",
        "# функция max считает максимальное значение, а функция min - минимальное\n",
        "def find_offline_max_min(data):\n",
        "    max, min = data['Offline Spend'].max(), data['Offline Spend'].min()\n",
        "    return f\"{max}, {min}\"\n",
        "\n",
        "\n",
        "def find_online_max_min(data):\n",
        "    max, min = data['Online Spend'].max(), data['Online Spend'].min()\n",
        "    return f\"{max}, {min}\""
      ],
      "metadata": {
        "id": "i3mbctk2h6qp"
      },
      "execution_count": null,
      "outputs": []
    },
    {
      "cell_type": "code",
      "source": [
        "print(\"Offline: среднее и медиана\", find_offline_mean_median(mark_spend))\n",
        "print(\"Online: среднее и медиана\", find_online_mean_median(mark_spend))\n",
        "print(\"Offline: максимальное и минимальное\",\n",
        "find_offline_max_min(mark_spend))\n",
        "print(\"Online: максимальное и минимальное\",\n",
        "find_online_max_min(mark_spend))"
      ],
      "metadata": {
        "colab": {
          "base_uri": "https://localhost:8080/"
        },
        "id": "YCEkaLe-iHzo",
        "outputId": "2a84fb74-df95-4949-9652-d9bf5122ca6d"
      },
      "execution_count": null,
      "outputs": [
        {
          "output_type": "stream",
          "name": "stdout",
          "text": [
            "Offline: среднее и медиана 2843.56, 3000.00\n",
            "Online: среднее и медиана 1905.88, 1881.94\n",
            "Offline: максимальное и минимальное 5000, 500\n",
            "Online: максимальное и минимальное 4556.93, 320.25\n"
          ]
        }
      ]
    },
    {
      "cell_type": "markdown",
      "source": [
        "# Лабораторная работа 5"
      ],
      "metadata": {
        "id": "HmxZi9eAHTVC"
      }
    },
    {
      "cell_type": "markdown",
      "source": [
        "Решение задачи регрессии.\n",
        "\n",
        "Есть файл web_traffic.tsv, который представляет статистику посещений веб-сервера компании и нашей задачей является предсказание значения посещения, для того, чтобы выделить в нужный момент времени дополнительную мощность сервера и не допустить его перегрузки.\n",
        "\n",
        "Слева находится индекс или номер часа по порядку, в который производился замер посещаемости, а справа - количество запросов сайта за этот час."
      ],
      "metadata": {
        "id": "bWPyCmH5Hczm"
      }
    },
    {
      "cell_type": "markdown",
      "source": [
        "## Введение"
      ],
      "metadata": {
        "id": "lsqLVYQrVHhs"
      }
    },
    {
      "cell_type": "code",
      "source": [
        "import pandas as pd\n",
        "import scipy as sp\n",
        "import numpy as np\n",
        "\n",
        "import matplotlib.pyplot as plt\n",
        "\n",
        "%matplotlib inline \n",
        "\n",
        "# построение графиков внутри текущего ноутбука"
      ],
      "metadata": {
        "id": "FD9aIbyAIHhJ"
      },
      "execution_count": null,
      "outputs": []
    },
    {
      "cell_type": "code",
      "source": [
        "# delimiter - сепаратор/разделитель\n",
        "# names - cписок имен столбцов для использования\n",
        "\n",
        "data = pd.read_csv('web_traffic.tsv',delimiter='\\t',names=[\"hour\", \"requests\"])\n",
        "\n",
        "data = data.dropna() # dropna() - удаляет значения NaN\n",
        "\n",
        "hours_data = data['hour']\n",
        "requests_data = data['requests']\n",
        "\n",
        "requests_data.head() # функция возвращает первые n строк для объекта\n",
        "# нет строки с номером 1, потому что она содержит NaN и была удалена ранее"
      ],
      "metadata": {
        "colab": {
          "base_uri": "https://localhost:8080/"
        },
        "id": "CGFFHorKIMl6",
        "outputId": "3c3a829b-8c1d-4c58-d98e-9ef467af2a51"
      },
      "execution_count": null,
      "outputs": [
        {
          "output_type": "execute_result",
          "data": {
            "text/plain": [
              "0    2272.0\n",
              "2    1386.0\n",
              "3    1365.0\n",
              "4    1488.0\n",
              "5    1337.0\n",
              "Name: requests, dtype: float64"
            ]
          },
          "metadata": {},
          "execution_count": 15
        }
      ]
    },
    {
      "cell_type": "code",
      "source": [
        "plt.scatter(hours_data, requests_data, s=3) # s - размер точек\n",
        "plt.title('Трафик веб-сайта за последний месяц')\n",
        "\n",
        "plt.xlabel('время')\n",
        "plt.ylabel('запросы/час')\n",
        "\n",
        "plt.xticks([w*24*7 for w in range(10)],[\"неделя %i\" %w for w in range(10)])\n",
        "plt.autoscale(tight=False)\n",
        "\n",
        "plt.grid(True, linestyle='-', color='0.8') #сетка\n",
        "plt.show()"
      ],
      "metadata": {
        "colab": {
          "base_uri": "https://localhost:8080/",
          "height": 295
        },
        "id": "RMhYhlHZMYit",
        "outputId": "56104d4b-fa3c-420a-c5c5-f3ff707fedcf"
      },
      "execution_count": null,
      "outputs": [
        {
          "output_type": "display_data",
          "data": {
            "text/plain": [
              "<Figure size 432x288 with 1 Axes>"
            ],
            "image/png": "[encoded data removed]"
          },
          "metadata": {
            "needs_background": "light"
          }
        }
      ]
    },
    {
      "cell_type": "code",
      "source": [
        "# выч среднеквадратическое отклонение\n",
        "def error(f,x,y):\n",
        "    return np.sum((f(x)-y)**2) "
      ],
      "metadata": {
        "id": "pIa7t_UvPlm2"
      },
      "execution_count": null,
      "outputs": []
    },
    {
      "cell_type": "code",
      "source": [
        "# polyfit - метод, который помещает данные в полиномиальную функцию\n",
        "# создается модель\n",
        "f1p, residuals, rank, sv, rcond = np.polyfit(hours_data, requests_data, 1, full=True)\n",
        "print(\"Параметры модели {}\".format(f1p))"
      ],
      "metadata": {
        "colab": {
          "base_uri": "https://localhost:8080/"
        },
        "id": "7fwvYNjiP8Pk",
        "outputId": "ab86fb66-0cd0-4187-b0c7-1f9ce0bd644f"
      },
      "execution_count": null,
      "outputs": [
        {
          "output_type": "stream",
          "name": "stdout",
          "text": [
            "Параметры модели [  2.59619213 989.02487106]\n"
          ]
        }
      ]
    },
    {
      "cell_type": "code",
      "source": [
        "f1 = np.poly1d(f1p) # одномерный полином\n",
        "print(f\"{error(f1, hours_data, requests_data):.5}\")"
      ],
      "metadata": {
        "colab": {
          "base_uri": "https://localhost:8080/"
        },
        "id": "lOiNHlIaSbzv",
        "outputId": "e0ce281d-1a33-4a11-b73c-c99b12a95c13"
      },
      "execution_count": null,
      "outputs": [
        {
          "output_type": "stream",
          "name": "stdout",
          "text": [
            "3.1739e+08\n"
          ]
        }
      ]
    },
    {
      "cell_type": "markdown",
      "source": [
        "Модель будет выглядеть следующим образом:\n",
        "```\n",
        "    f(x) = 2.59619213 * x + 989.02487106\n",
        "```\n",
        "MSE = 3.1739e+08"
      ],
      "metadata": {
        "id": "nHwIQSnWSjdq"
      }
    },
    {
      "cell_type": "code",
      "source": [
        "plt.title('Трафик веб-сайта за последний месяц')\n",
        "plt.xlabel('время')\n",
        "plt.ylabel('запросы/час')\n",
        "plt.xticks([w*7*24 for w in range(10)],[\"неделя %i\" %w for w in range(10)])\n",
        "plt.autoscale(tight=False)\n",
        "plt.grid(True, linestyle='-', color='0.8')\n",
        "\n",
        "# визуализация данных\n",
        "plt.scatter(hours_data, requests_data, s=3)\n",
        "\n",
        "# отобразим модель #1 \n",
        "f1x = np.linspace(0, hours_data[len(hours_data)], len(hours_data)) # Возвращает равномерно распределенные числа через указанный интервал\n",
        "f1y = f1(f1x)\n",
        "plt.plot(f1x, f1y, linewidth=1.0, color='lime')\n",
        "\n",
        "plt.show()"
      ],
      "metadata": {
        "colab": {
          "base_uri": "https://localhost:8080/",
          "height": 295
        },
        "id": "RcR3iRFZUfi8",
        "outputId": "814d93cb-09f3-4e9d-ad8f-394be349e909"
      },
      "execution_count": null,
      "outputs": [
        {
          "output_type": "display_data",
          "data": {
            "text/plain": [
              "<Figure size 432x288 with 1 Axes>"
            ],
            "image/png": "[encoded data removed]"
          },
          "metadata": {
            "needs_background": "light"
          }
        }
      ]
    },
    {
      "cell_type": "markdown",
      "source": [
        "## С/р\n"
      ],
      "metadata": {
        "id": "UBQl_AWMWAqB"
      }
    },
    {
      "cell_type": "markdown",
      "source": [
        "\n",
        "1. Реализовать модели степени полинома 2, 3, 5, 10, 20\n",
        "2. Посчитать для каждой из них метрику ошибки MSE и дать характеристику того, что получилось."
      ],
      "metadata": {
        "id": "lZlIm187WJwo"
      }
    },
    {
      "cell_type": "code",
      "source": [
        "# создание моделей степени полинома 2, 3, ... 20\n",
        "f2p, residuals, rank, sv, rcond = np.polyfit(hours_data, requests_data, 2, full=True)\n",
        "f2 = np.poly1d(f2p)\n",
        "print(\"Параметры модели 2 (степень полинома 2) {}\".format(f2p))\n",
        "print(f\"MSE = {error(f2, hours_data, requests_data):.5}\")\n",
        "\n"
      ],
      "metadata": {
        "colab": {
          "base_uri": "https://localhost:8080/"
        },
        "id": "cXgFXercWR9-",
        "outputId": "31a93892-c016-43b2-a7c8-a31e21881332"
      },
      "execution_count": null,
      "outputs": [
        {
          "output_type": "stream",
          "name": "stdout",
          "text": [
            "Параметры модели 2 (степень полинома 2) [ 1.05322215e-02 -5.26545650e+00  1.97476082e+03]\n",
            "MSE = 1.7998e+08\n"
          ]
        }
      ]
    },
    {
      "cell_type": "code",
      "source": [
        "f3p, residuals, rank, sv, rcond = np.polyfit(hours_data, requests_data, 3, full=True)\n",
        "f3 = np.poly1d(f3p)\n",
        "print(\"Параметры модели 3 (степень полинома 3) {}\".format(f3p))\n",
        "print(f\"MSE = {error(f3, hours_data, requests_data):.5}\")\n",
        "\n"
      ],
      "metadata": {
        "colab": {
          "base_uri": "https://localhost:8080/"
        },
        "id": "Blh_RgUOWo6h",
        "outputId": "28131769-1167-45ce-ba0e-a21f6b381af8"
      },
      "execution_count": null,
      "outputs": [
        {
          "output_type": "stream",
          "name": "stdout",
          "text": [
            "Параметры модели 3 (степень полинома 3) [ 3.04960132e-05 -2.35893797e-02  4.94226019e+00  1.33328797e+03]\n",
            "MSE = 1.3935e+08\n"
          ]
        }
      ]
    },
    {
      "cell_type": "code",
      "source": [
        "f5p, residuals, rank, sv, rcond = np.polyfit(hours_data, requests_data, 5, full=True)\n",
        "f5 = np.poly1d(f5p)\n",
        "print(\"Параметры модели 5 (степень полинома 5) {}\".format(f5p))\n",
        "print(f\"MSE = {error(f5, hours_data, requests_data):.5}\")\n",
        "\n"
      ],
      "metadata": {
        "colab": {
          "base_uri": "https://localhost:8080/"
        },
        "id": "GOF-Y77vWrGj",
        "outputId": "9ca53c7f-f1d8-4299-c6bf-9e9fa60f94b8"
      },
      "execution_count": null,
      "outputs": [
        {
          "output_type": "stream",
          "name": "stdout",
          "text": [
            "Параметры модели 5 (степень полинома 5) [ 2.16470951e-10 -3.13405153e-07  1.63844797e-04 -3.41497485e-02\n",
            "  2.24785575e+00  1.53616050e+03]\n",
            "MSE = 1.2446e+08\n"
          ]
        }
      ]
    },
    {
      "cell_type": "code",
      "source": [
        "f10p, residuals, rank, sv, rcond = np.polyfit(hours_data, requests_data, 10, full=True)\n",
        "f10 = np.poly1d(f10p)\n",
        "print(\"Параметры модели 10 (степень полинома 10) {}\".format(f10p))\n",
        "print(f\"MSE = {error(f10, hours_data, requests_data):.5}\")\n"
      ],
      "metadata": {
        "colab": {
          "base_uri": "https://localhost:8080/"
        },
        "id": "_OP4YsRSWtPx",
        "outputId": "fc8e9d40-bdc0-4b4f-8b16-3c7bf2dfaf3a"
      },
      "execution_count": null,
      "outputs": [
        {
          "output_type": "stream",
          "name": "stdout",
          "text": [
            "Параметры модели 10 (степень полинома 10) [-3.73981968e-22  1.36473756e-18 -2.14294406e-15  1.89884971e-12\n",
            " -1.04570108e-09  3.70867731e-07 -8.45604588e-05  1.19167041e-02\n",
            " -9.41618606e-01  3.33703840e+01  1.26421204e+03]\n",
            "MSE = 1.2194e+08\n"
          ]
        }
      ]
    },
    {
      "cell_type": "code",
      "source": [
        "\n",
        "f20p, residuals, rank, sv, rcond = np.polyfit(hours_data, requests_data, 20, full=True)\n",
        "f20 = np.poly1d(f20p)\n",
        "print(\"Параметры модели 20 (степень полинома 20) {}\".format(f20p))\n",
        "print(f\"MSE = {error(f20, hours_data, requests_data):.5}\")"
      ],
      "metadata": {
        "colab": {
          "base_uri": "https://localhost:8080/"
        },
        "id": "_z8fmHTKWvAj",
        "outputId": "0e30b696-a63a-47ba-d6bf-797986a878e2"
      },
      "execution_count": null,
      "outputs": [
        {
          "output_type": "stream",
          "name": "stdout",
          "text": [
            "Параметры модели 20 (степень полинома 20) [ 4.83090666e-47 -3.18254288e-43  8.87216773e-40 -1.31484635e-36\n",
            "  9.87793047e-34 -8.55503070e-32 -5.09644269e-28  3.80311873e-25\n",
            "  4.98732305e-23 -2.74831025e-19  2.35473549e-16 -1.17298303e-13\n",
            "  3.93132320e-11 -9.23453278e-09  1.52942330e-06 -1.76098283e-04\n",
            "  1.36396780e-02 -6.69561733e-01  1.86541701e+01 -2.35174285e+02\n",
            "  2.33820200e+03]\n",
            "MSE = 1.1053e+08\n"
          ]
        }
      ]
    },
    {
      "cell_type": "markdown",
      "source": [
        "3. Визуализировать каждую модель на графике так, чтобы это было отображено на одной координатной плоскости."
      ],
      "metadata": {
        "id": "G7XRiTgyWXmh"
      }
    },
    {
      "cell_type": "code",
      "source": [
        "plt.title('Трафик веб-сайта за последний месяц')\n",
        "plt.xlabel('время')\n",
        "plt.ylabel('запросы/час')\n",
        "plt.xticks([w*7*24 for w in range(10)],[\"неделя %i\" %w for w in range(10)])\n",
        "plt.autoscale(tight=False)\n",
        "plt.grid(True, linestyle='-', color='0.8')\n",
        "\n",
        "# визуализация данных\n",
        "plt.scatter(hours_data, requests_data, s=3)\n",
        "\n",
        "# отобразим модель #1 (степень полинома 1)\n",
        "fx = np.linspace(0, hours_data[len(hours_data)], len(hours_data))\n",
        "f1y = f1(fx)\n",
        "plt.plot(fx, f1y, linewidth=1.0, color='black')\n",
        "\n",
        "# отобразим модель #2 (степень полинома 2)\n",
        "f2y = f2(fx)\n",
        "plt.plot(fx, f2y, linewidth=1.0, color='blue')\n",
        "\n",
        "# отобразим модель #3 (степень полинома 3)\n",
        "f3y = f3(fx)\n",
        "plt.plot(fx, f3y, linewidth=1.0, color='lime')\n",
        "\n",
        "# отобразим модель #5 (степень полинома 5)\n",
        "f5y = f5(fx)\n",
        "plt.plot(f1x, f5y, linewidth=2.0, color='magenta')\n",
        "\n",
        "# отобразим модель #10 (степень полинома 10)\n",
        "f10y = f10(fx)\n",
        "plt.plot(f1x, f10y, linewidth=2.0, color='cyan')\n",
        "\n",
        "# отобразим модель #20 (степень полинома 20)\n",
        "f20y = f20(fx)\n",
        "plt.plot(f1x, f20y, linewidth=2.0, color='red')\n",
        "\n",
        "\n",
        "plt.show()"
      ],
      "metadata": {
        "colab": {
          "base_uri": "https://localhost:8080/",
          "height": 295
        },
        "id": "WHPhA3VZXBNd",
        "outputId": "388d3b8d-21ad-4f54-b0a7-984d977bcd94"
      },
      "execution_count": null,
      "outputs": [
        {
          "output_type": "display_data",
          "data": {
            "text/plain": [
              "<Figure size 432x288 with 1 Axes>"
            ],
            "image/png": "[encoded data removed]"
          },
          "metadata": {
            "needs_background": "light"
          }
        }
      ]
    },
    {
      "cell_type": "code",
      "source": [
        "divider = int(3.5*7*24)\n",
        "divider2 = int(4.1*7*24)\n",
        "\n",
        "hours_data_1, requests_data_1 = hours_data[:divider], requests_data[:divider]\n",
        "hours_data_2, requests_data_2 = hours_data[divider:], requests_data[divider:]\n",
        "\n",
        "hours_data_test, requests_data_test = hours_data[divider2:], requests_data[divider2:]\n"
      ],
      "metadata": {
        "id": "NsrlPXK5YlTV"
      },
      "execution_count": null,
      "outputs": []
    },
    {
      "cell_type": "code",
      "source": [
        "f3p, residuals, rank, sv, rcond = np.polyfit(hours_data_1, requests_data_1, 3, full=True)\n",
        "f3 = np.poly1d(f3p)\n",
        "print(f\"MSE (для данных ДО 3.5 недели)= {error(f3, hours_data_1, requests_data_1):.5}\")\n",
        "print(f\"MSE (только для данных с 3.5 недели)= {error(f3, hours_data_2, requests_data_2):.5}\")"
      ],
      "metadata": {
        "colab": {
          "base_uri": "https://localhost:8080/"
        },
        "id": "_a7nBZOeYq2r",
        "outputId": "5ae097ad-5999-4c21-f389-7e455669a230"
      },
      "execution_count": null,
      "outputs": [
        {
          "output_type": "stream",
          "name": "stdout",
          "text": [
            "MSE (для данных ДО 3.5 недели)= 1.0159e+08\n",
            "MSE (только для данных с 3.5 недели)= 8.4713e+07\n"
          ]
        }
      ]
    },
    {
      "cell_type": "code",
      "source": [
        "f20p, residuals, rank, sv, rcond = np.polyfit(hours_data_2, requests_data_2, 20, full=True)\n",
        "f20 = np.poly1d(f20p)\n",
        "print(f\"MSE (для данных c 3.5 недели по 4.1 недели)= {error(f20, hours_data_test, requests_data_test):.5}\")\n",
        "print(f\"MSE (только для данных с 3.5 недели)= {error(f20, hours_data_2, requests_data_2):.5}\")"
      ],
      "metadata": {
        "colab": {
          "base_uri": "https://localhost:8080/"
        },
        "id": "FROzE17QY-S1",
        "outputId": "b186c4f9-6c92-4725-be4c-38674abd521b"
      },
      "execution_count": null,
      "outputs": [
        {
          "output_type": "stream",
          "name": "stdout",
          "text": [
            "MSE (для данных c 3.5 недели по 4.1 недели)= 7.8668e+06\n",
            "MSE (только для данных с 3.5 недели)= 1.876e+07\n"
          ]
        }
      ]
    },
    {
      "cell_type": "markdown",
      "source": [
        "## Ответить на вопрос"
      ],
      "metadata": {
        "id": "s5FKV626YBk5"
      }
    },
    {
      "cell_type": "markdown",
      "source": [
        "Какая модель для гипотезы, при которой весь набор данных представляет собой два диапазона значений (от 0 недели до 3.5 недели и с 3.5 недели до конца), подходит наилучшим образом? Модель, в данном случае, это степень полинома. Мы уже знаем (см. ячейку выше), что степень полинома 20 плохо подходит для тестовых данных (hours_data_test и requests_data_test) потому что ошибка для тестовых данных на 9 порядков выше, чем ошибка для тренировочного набора данных."
      ],
      "metadata": {
        "id": "b_2dKbEjYFmV"
      }
    },
    {
      "cell_type": "code",
      "source": [
        "# 1 степень\n",
        "f1p, residuals, rank, sv, rcond = np.polyfit(hours_data_1, requests_data_1, 1, full=True) # обучаем модель на 1 степени полинома\n",
        "f1 = np.poly1d(f1p) # находим параметры модели\n",
        "\n",
        "before_err = error(f1, hours_data_1, requests_data_1) # вычисляем ошибку в первом диапазоне\n",
        "after_err = error(f1, hours_data_2, requests_data_2) # вычисляем ошибку во втором диапазоне\n",
        "\n",
        "print(f\"Степень: 1\")\n",
        "# выводим ошибки\n",
        "print(f\"MSE (для данных ДО 3.5 недели) = {before_err:.5}\")\n",
        "print(f\"MSE (только данных с 3.5 недели) = {after_err:.5}\")\n",
        "\n",
        "# находим разницу ошибок\n",
        "print(f\"Разница MSE: {(after_err - before_err):.5}\\n\")"
      ],
      "metadata": {
        "colab": {
          "base_uri": "https://localhost:8080/"
        },
        "id": "5HIp35LOYHzM",
        "outputId": "1a81cc30-7bb2-4e69-f331-4f8f9136a569"
      },
      "execution_count": null,
      "outputs": [
        {
          "output_type": "stream",
          "name": "stdout",
          "text": [
            "Степень: 1\n",
            "MSE (для данных ДО 3.5 недели) = 1.1081e+08\n",
            "MSE (только данных с 3.5 недели) = 3.551e+08\n",
            "Разница MSE: 2.4429e+08\n",
            "\n"
          ]
        }
      ]
    },
    {
      "cell_type": "code",
      "source": [
        "# 2 степень\n",
        "f2p, residuals, rank, sv, rcond = np.polyfit(hours_data_1, requests_data_1, 2, full=True)\n",
        "f2 = np.poly1d(f2p)\n",
        "\n",
        "before_err = error(f2, hours_data_1, requests_data_1)\n",
        "after_err = error(f2, hours_data_2, requests_data_2)\n",
        "\n",
        "print(f\"Степень: 2\")\n",
        "print(f\"MSE (для данных ДО 3.5 недели) = {before_err:.5}\")\n",
        "print(f\"MSE (только данных с 3.5 недели) = {after_err:.5}\")\n",
        "print(f\"Разница MSE: {(after_err - before_err):.5}\\n\")"
      ],
      "metadata": {
        "colab": {
          "base_uri": "https://localhost:8080/"
        },
        "id": "lxKVaS_-ZPL9",
        "outputId": "fbf4d2d4-0d24-491d-b51f-c9f6b045317e"
      },
      "execution_count": null,
      "outputs": [
        {
          "output_type": "stream",
          "name": "stdout",
          "text": [
            "Степень: 2\n",
            "MSE (для данных ДО 3.5 недели) = 1.0282e+08\n",
            "MSE (только данных с 3.5 недели) = 1.8116e+08\n",
            "Разница MSE: 7.8346e+07\n",
            "\n"
          ]
        }
      ]
    },
    {
      "cell_type": "code",
      "source": [
        "# 3 степень\n",
        "f3p, residuals, rank, sv, rcond = np.polyfit(hours_data_1, requests_data_1, 3, full=True)\n",
        "f3 = np.poly1d(f3p)\n",
        "\n",
        "before_err = error(f3, hours_data_1, requests_data_1)\n",
        "after_err = error(f3, hours_data_2, requests_data_2)\n",
        "\n",
        "print(f\"Степень: 3\")\n",
        "print(f\"MSE (для данных ДО 3.5 недели) = {before_err:.5}\")\n",
        "print(f\"MSE (только данных с 3.5 недели) = {after_err:.5}\")\n",
        "print(f\"Разница MSE: {(after_err - before_err):.5}\\n\")"
      ],
      "metadata": {
        "colab": {
          "base_uri": "https://localhost:8080/"
        },
        "id": "OyhG1fO3ZSTX",
        "outputId": "3c4c3d1b-88ba-429c-c3d4-e08f4cb5a0f4"
      },
      "execution_count": null,
      "outputs": [
        {
          "output_type": "stream",
          "name": "stdout",
          "text": [
            "Степень: 3\n",
            "MSE (для данных ДО 3.5 недели) = 1.0159e+08\n",
            "MSE (только данных с 3.5 недели) = 8.4713e+07\n",
            "Разница MSE: -1.6873e+07\n",
            "\n"
          ]
        }
      ]
    },
    {
      "cell_type": "code",
      "source": [
        "# 4 степень\n",
        "f4p, residuals, rank, sv, rcond = np.polyfit(hours_data_1, requests_data_1, 4, full=True)\n",
        "f4 = np.poly1d(f4p)\n",
        "\n",
        "before_err = error(f4, hours_data_1, requests_data_1)\n",
        "after_err = error(f4, hours_data_2, requests_data_2)\n",
        "\n",
        "print(f\"Степень: 4\")\n",
        "print(f\"MSE (для данных ДО 3.5 недели) = {before_err:.5}\")\n",
        "print(f\"MSE (только данных с 3.5 недели) = {after_err:.5}\")\n",
        "print(f\"Разница MSE: {(after_err - before_err):.5}\\n\")"
      ],
      "metadata": {
        "colab": {
          "base_uri": "https://localhost:8080/"
        },
        "id": "MmR2UpEEZZSZ",
        "outputId": "f01fe79c-e922-4886-c95f-be5f211f5551"
      },
      "execution_count": null,
      "outputs": [
        {
          "output_type": "stream",
          "name": "stdout",
          "text": [
            "Степень: 4\n",
            "MSE (для данных ДО 3.5 недели) = 1.0117e+08\n",
            "MSE (только данных с 3.5 недели) = 3.1047e+07\n",
            "Разница MSE: -7.0123e+07\n",
            "\n"
          ]
        }
      ]
    },
    {
      "cell_type": "code",
      "source": [
        "# 5 степень\n",
        "f5p, residuals, rank, sv, rcond = np.polyfit(hours_data_1, requests_data_1, 5, full=True)\n",
        "f5 = np.poly1d(f5p)\n",
        "\n",
        "before_err = error(f5, hours_data_1, requests_data_1)\n",
        "after_err = error(f5, hours_data_2, requests_data_2)\n",
        "\n",
        "print(f\"Степень: 5\")\n",
        "print(f\"MSE (для данных ДО 3.5 недели) = {before_err:.5}\")\n",
        "print(f\"MSE (только данных с 3.5 недели) = {after_err:.5}\")\n",
        "print(f\"Разница MSE: {(after_err - before_err):.5}\\n\")"
      ],
      "metadata": {
        "colab": {
          "base_uri": "https://localhost:8080/"
        },
        "id": "OXKt1R4cZecG",
        "outputId": "3555723e-687b-43d9-f7ad-aa75f1c236f1"
      },
      "execution_count": null,
      "outputs": [
        {
          "output_type": "stream",
          "name": "stdout",
          "text": [
            "Степень: 5\n",
            "MSE (для данных ДО 3.5 недели) = 1.0116e+08\n",
            "MSE (только данных с 3.5 недели) = 4.1021e+07\n",
            "Разница MSE: -6.014e+07\n",
            "\n"
          ]
        }
      ]
    },
    {
      "cell_type": "code",
      "source": [
        "# 10 степень\n",
        "f10p, residuals, rank, sv, rcond = np.polyfit(hours_data_1, requests_data_1, 10, full=True)\n",
        "f10 = np.poly1d(f10p)\n",
        "\n",
        "before_err = error(f10, hours_data_1, requests_data_1)\n",
        "after_err = error(f10, hours_data_2, requests_data_2)\n",
        "\n",
        "print(f\"Степень: 10\")\n",
        "print(f\"MSE (для данных ДО 3.5 недели) = {before_err:.5}\")\n",
        "print(f\"MSE (только данных с 3.5 недели) = {after_err:.5}\")\n",
        "print(f\"Разница MSE: {(after_err - before_err):.5}\\n\")"
      ],
      "metadata": {
        "colab": {
          "base_uri": "https://localhost:8080/"
        },
        "id": "-Q8fN0INZgrW",
        "outputId": "b80fc71a-cdb4-45ca-989d-18606e4264b7"
      },
      "execution_count": null,
      "outputs": [
        {
          "output_type": "stream",
          "name": "stdout",
          "text": [
            "Степень: 10\n",
            "MSE (для данных ДО 3.5 недели) = 9.3236e+07\n",
            "MSE (только данных с 3.5 недели) = 2.1939e+13\n",
            "Разница MSE: 2.1939e+13\n",
            "\n"
          ]
        }
      ]
    },
    {
      "cell_type": "code",
      "source": [
        "# 20 степень\n",
        "f20p, residuals, rank, sv, rcond = np.polyfit(hours_data_1, requests_data_1, 20, full=True)\n",
        "f20 = np.poly1d(f20p)\n",
        "\n",
        "before_err = error(f20, hours_data_1, requests_data_1)\n",
        "after_err = error(f20, hours_data_2, requests_data_2)\n",
        "\n",
        "print(f\"Степень: 20\")\n",
        "print(f\"MSE (для данных ДО 3.5 недели) = {before_err:.5}\")\n",
        "print(f\"MSE (только данных с 3.5 недели) = {after_err:.5}\")\n",
        "print(f\"Разница MSE: {(after_err - before_err):.5}\\n\")"
      ],
      "metadata": {
        "colab": {
          "base_uri": "https://localhost:8080/"
        },
        "id": "uz3CRSUJZieC",
        "outputId": "286943ba-9dd4-4ab4-a9d4-84932575c6bd"
      },
      "execution_count": null,
      "outputs": [
        {
          "output_type": "stream",
          "name": "stdout",
          "text": [
            "Степень: 20\n",
            "MSE (для данных ДО 3.5 недели) = 9.0578e+07\n",
            "MSE (только данных с 3.5 недели) = 2.4825e+17\n",
            "Разница MSE: 2.4825e+17\n",
            "\n"
          ]
        }
      ]
    },
    {
      "cell_type": "markdown",
      "source": [
        "Стоит остановить свой выбор на 4-5 степенной модели"
      ],
      "metadata": {
        "id": "0IOBV6wNZvzG"
      }
    },
    {
      "cell_type": "markdown",
      "source": [
        "# Лабораторная работа 6"
      ],
      "metadata": {
        "id": "evmWGkgBZ1Th"
      }
    },
    {
      "cell_type": "code",
      "source": [
        "import numpy as np\n",
        "import matplotlib.pyplot as plt\n",
        "import pandas as pd\n",
        "from sklearn.linear_model import LinearRegression\n",
        "\n",
        "# genfromtxt() - загрузка данных из txt файла\n",
        "# dtype - тип получаемых данных, в файле находятся целые числа\n",
        "# delimiter - разделитель, по которому данные будут группироваться, в данном случае запятая\n",
        "# skip_header - пропуск строчек в начале файла, нам нужно пропустить 1 строчку\n",
        "data = np.genfromtxt(\"LR6.txt\", dtype='uint64', delimiter=\",\", skip_header=1)\n",
        "\n",
        "# загрузка данных в разные списки\n",
        "square = data[:,0]\n",
        "rooms = data[:,1]\n",
        "cost = data[:,2]"
      ],
      "metadata": {
        "id": "r1v5D6-wdFBg"
      },
      "execution_count": null,
      "outputs": []
    },
    {
      "cell_type": "code",
      "source": [
        "# функция для вычисления ошибки из 5ЛР\n",
        "def error(f, x, y):\n",
        "    return np.sum((f(x)-y)**2)"
      ],
      "metadata": {
        "id": "_Q33UIpJdwdh"
      },
      "execution_count": null,
      "outputs": []
    },
    {
      "cell_type": "code",
      "source": [
        "# визуализация данных\n",
        "\n",
        "# построение графика - отношение кол-ва комнат к стоимости\n",
        "plt.scatter(rooms, cost, s=10)\n",
        "\n",
        "# подписи графика\n",
        "plt.title('Отношение количества комнат к стоимости')\n",
        "plt.xlabel('Количество комнат')\n",
        "plt.ylabel('Стоимость')\n",
        "\n",
        "# значения по оси x - комнат может быть от 1 до 5 включительно\n",
        "plt.xticks([i for i in range(1, 6)])\n",
        "plt.show()"
      ],
      "metadata": {
        "colab": {
          "base_uri": "https://localhost:8080/",
          "height": 295
        },
        "id": "a1fhPuJDd2eT",
        "outputId": "e70bcf5e-5028-4a3f-e700-3c77fd48d373"
      },
      "execution_count": null,
      "outputs": [
        {
          "output_type": "display_data",
          "data": {
            "text/plain": [
              "<Figure size 432x288 with 1 Axes>"
            ],
            "image/png": "[encoded data removed]"
          },
          "metadata": {
            "needs_background": "light"
          }
        }
      ]
    },
    {
      "cell_type": "code",
      "source": [
        "# линейная модель\n",
        "\n",
        "# обучение модели\n",
        "f1p, residuals, rank, sv, rcond = np.polyfit(square, cost, 1, full=True)\n",
        "f1 = np.poly1d(f1p)\n",
        "# linspace - линейное пространство \n",
        "# аргументы - start, stop\n",
        "fx = np.linspace(0, max(square)) \n",
        "\n",
        "# визуализация модели\n",
        "plt.scatter(square, cost, s=10)\n",
        "plt.plot(fx, f1(fx), linewidth=1.0, color='r')\n",
        "plt.title('Отношение площади жилья к стоимости')\n",
        "plt.xlabel('Площадь')\n",
        "plt.ylabel('Стоимость')\n",
        "plt.show()\n",
        "\n",
        "\n",
        "print(f\"Ошибка модели: {error(f1, square, cost):.5}\")"
      ],
      "metadata": {
        "colab": {
          "base_uri": "https://localhost:8080/",
          "height": 312
        },
        "id": "dsqaZVb9d_fI",
        "outputId": "32b2d0b2-34e3-46e7-bc1b-d5fd127db81e"
      },
      "execution_count": null,
      "outputs": [
        {
          "output_type": "display_data",
          "data": {
            "text/plain": [
              "<Figure size 432x288 with 1 Axes>"
            ],
            "image/png": "[encoded data removed]"
          },
          "metadata": {
            "needs_background": "light"
          }
        },
        {
          "output_type": "stream",
          "name": "stdout",
          "text": [
            "Ошибка модели: 1.9346e+11\n"
          ]
        }
      ]
    },
    {
      "cell_type": "code",
      "source": [
        "# полиномиальная модель 2-3 степени\n",
        "\n",
        "# Обучение моделей\n",
        "f2p, residuals, rank, sv, rcond = np.polyfit(square, cost, 2, full=True)\n",
        "f2 = np.poly1d(f2p)\n",
        "\n",
        "f3p, residuals, rank, sv, rcond = np.polyfit(square, cost, 3, full=True)\n",
        "f3 = np.poly1d(f3p)\n",
        "\n",
        "# визуализация моделей\n",
        "plt.scatter(square, cost, s=10)\n",
        "plt.plot(fx, f2(fx), linewidth=1.0, color='lime')\n",
        "plt.plot(fx, f3(fx), linewidth=1.0, color='blue')\n",
        "plt.title('Отношение площади жилья к стоимости')\n",
        "plt.xlabel('Площадь')\n",
        "plt.ylabel('Стоимость')\n",
        "plt.show()\n",
        "\n",
        "# вычисление ошибки\n",
        "print(f\"Ошибка модели (степень 2): {error(f2, square, cost):.5}\")\n",
        "print(f\"Ошибка модели (степень 3): {error(f3, square, cost):.5}\")"
      ],
      "metadata": {
        "colab": {
          "base_uri": "https://localhost:8080/",
          "height": 330
        },
        "id": "Z8q8ZC2Cej2O",
        "outputId": "475b5f88-e96a-4e24-eb0f-ef5e42171998"
      },
      "execution_count": null,
      "outputs": [
        {
          "output_type": "display_data",
          "data": {
            "text/plain": [
              "<Figure size 432x288 with 1 Axes>"
            ],
            "image/png": "[encoded data removed]"
          },
          "metadata": {
            "needs_background": "light"
          }
        },
        {
          "output_type": "stream",
          "name": "stdout",
          "text": [
            "Ошибка модели (степень 2): 1.9342e+11\n",
            "Ошибка модели (степень 3): 1.8844e+11\n"
          ]
        }
      ]
    },
    {
      "cell_type": "code",
      "source": [
        "# Линейная модель (с помощью scikit-learn) с 2 параметрами\n",
        "\n",
        "# для того, чтобы использовать множественную регрессию, сделаем DataFrame из двух списков - площадей и кол-ва комнат\n",
        "# для этого используем функцию zip, которая поможет создать список кортежей\n",
        "data = list(zip(square, rooms))\n",
        "\n",
        "# создаём DataFrame из полученных кортежей\n",
        "X = pd.DataFrame(data, columns = ['square', 'rooms'])\n",
        "Y = cost\n",
        "\n",
        "# создаём объект LinearRegression, с помощью которого посчитаем регрессию\n",
        "lin_reg = LinearRegression()\n",
        "# для обучения модели следует использовать метод fit\n",
        "# туда помещаем значения созданного DataFrame и цены\n",
        "lin_reg.fit(X.values, Y)\n",
        "\n",
        "# посчитаем ошибку данной модели\n",
        "# функция, с помощью которой будет считаться ошибка - predict, которая предсказывает значения\n",
        "# последующие аргументы - значения DataFrame и wtys\n",
        "print(f\"Ошибка данной модели: {error(lin_reg.predict, X.values, Y):.5}\")"
      ],
      "metadata": {
        "colab": {
          "base_uri": "https://localhost:8080/"
        },
        "id": "F9rGNzkEfDv2",
        "outputId": "3221292f-3ae8-4a33-a1c3-cb60113242a0"
      },
      "execution_count": null,
      "outputs": [
        {
          "output_type": "stream",
          "name": "stdout",
          "text": [
            "Ошибка данной модели: 1.9207e+11\n"
          ]
        }
      ]
    },
    {
      "cell_type": "markdown",
      "source": [
        "Задание: Предскажите значения для двух объектах недвижимости с использованием этих трех моделей: 1650,3; 2200,4"
      ],
      "metadata": {
        "id": "ga6zeTZvfd6s"
      }
    },
    {
      "cell_type": "code",
      "source": [
        "# Создадим DataFrame с тестовыми данными, для которых будут предсказываться значения цены\n",
        "# аналогично с DataFrame выше\n",
        "data = list(zip([1650, 2200], [3, 4]))\n",
        "test = pd.DataFrame(data)\n",
        "\n",
        "# результаты по линейной модели с учётом только размера\n",
        "predicted = f1(test.values)\n",
        "# нужные нам данные находятся по нулевому индексу в каждом из списков\n",
        "print(f\"Линейная модель с учётом только размера: {predicted[0][0]:.2f}, {predicted[1][0]:.2f}\")\n",
        "\n",
        "# результаты по модели второй степени\n",
        "predicted = f2(test.values)\n",
        "print(f\"Модель 2 степени: {predicted[0][0]:.2f}, {predicted[1][0]:.2f}\")\n",
        "\n",
        "# результаты по модели третьей степени\n",
        "predicted = f3(test.values)\n",
        "print(f\"Модель 3 степени: {predicted[0][0]:.2f}, {predicted[1][0]:.2f}\")\n",
        "\n",
        "# результаты по линейной модель, учитывающей размер и кол-во\n",
        "predicted = lin_reg.predict(test.values)\n",
        "print(f\"Множественная регрессия: {predicted[0]:.2f}, {predicted[1]:.2f}\")"
      ],
      "metadata": {
        "colab": {
          "base_uri": "https://localhost:8080/"
        },
        "id": "tv4fsGODfikg",
        "outputId": "0c33d3b6-cae1-4af3-89b9-82d3721def6f"
      },
      "execution_count": null,
      "outputs": [
        {
          "output_type": "stream",
          "name": "stdout",
          "text": [
            "Линейная модель с учётом только размера: 293237.22, 367226.13\n",
            "Модель 2 степени: 293387.08, 368112.59\n",
            "Модель 3 степени: 285422.83, 365824.75\n",
            "Множественная регрессия: 293081.46, 360909.32\n"
          ]
        }
      ]
    },
    {
      "cell_type": "markdown",
      "source": [
        "Вывод:\n",
        "\n",
        "Наименьшая ошибка у модели третьей степени, так как обучение с большей степенью получилось более точным"
      ],
      "metadata": {
        "id": "UQ-t3HkLfphJ"
      }
    }
  ]
}